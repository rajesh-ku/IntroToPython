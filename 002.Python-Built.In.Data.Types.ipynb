{
 "cells": [
  {
   "cell_type": "markdown",
   "source": [
    "## Built-in data types in Python\r\n",
    "\r\n",
    "Any data or information stored within a Python variable has a *type*. You can view the type of data stored within a variable using the `type` function.\r\n",
    "\r\n",
    "Python has several built-in data types for storing different kinds of information in variables. Following are some commonly used data types:\r\n",
    "\r\n",
    "### Static Data Type\r\n",
    "1. Integer - arbitrary precision integer\r\n",
    "2. Float - 64 bit floating point number\r\n",
    "3. Boolean - true / false\r\n",
    "4. None - null values\r\n",
    "\r\n",
    "### Object Type\r\n",
    "5. String\r\n",
    "6. List\r\n",
    "7. Tuple\r\n",
    "8. Dictionary\r\n",
    "\r\n",
    "Integer, float, boolean, None, and string are *primitive data types* because they represent a single value. Other data types like list, tuple, and dictionary are often called *data structures* or *containers* because they hold multiple pieces of data together.\r\n",
    "\r\n",
    "\r\n",
    "## Integer Data Types\r\n",
    "It allows `unlimited precision signed intered` meaning you can use as many didgit as you need!"
   ],
   "metadata": {}
  },
  {
   "cell_type": "code",
   "execution_count": null,
   "source": [
    "# Integer literals are defined as decimals \r\n",
    "integer_number = 10\r\n",
    "print(integer_number)\r\n",
    "\r\n",
    "# They also represent binary number\r\n",
    "binary_number = 0b10\r\n",
    "print(binary_number)\r\n",
    "\r\n",
    "# Octal numbers are represented as \r\n",
    "octal_number = 0o10\r\n",
    "print(octal_number)\r\n",
    "\r\n",
    "# Hexadecimal numbers are represented as \r\n",
    "hexadecimal_number = 0x10\r\n",
    "print(hexadecimal_number)\r\n",
    "\r\n",
    "# Integer value can also be created by calling the `int()` contruct\r\n",
    "print(int(35))\r\n",
    "\r\n",
    "# Integer can also be created from the float value. It will also round off to nearest 0\r\n",
    "print(int(3.5))\r\n",
    "\r\n",
    "# OR \r\n",
    "print(int(-3.5))\r\n",
    "\r\n",
    "# int() can convert strings to Integer\r\n",
    "print(int(\"45\") + 1)"
   ],
   "outputs": [],
   "metadata": {
    "dotnet_interactive": {
     "language": "csharp"
    }
   }
  },
  {
   "cell_type": "markdown",
   "source": [
    "## Float Data Types\r\n",
    "Float data type is represented by `IEEE-754` double-precision with 53-bits of binary precision.\r\n"
   ],
   "metadata": {}
  },
  {
   "cell_type": "code",
   "execution_count": null,
   "source": [
    "# Any number which has decimal can be represented by a float\r\n",
    "print(3.1415)\r\n",
    "\r\n",
    "# Scientific number can be represented by float too, for example, speed of light\r\n",
    "# <img src=\"https://render.githubusercontent.com/render/math?math=3*10^8 m/s\">\r\n",
    "print(3e8)\r\n",
    "\r\n",
    "# Scientific notation for smaller decimal number, Avogadro's number \r\n",
    "print(6.0221409e+23)\r\n",
    "\r\n",
    "# CONVERT to float: from `int` to `float`\r\n",
    "print(float(7))\r\n",
    "\r\n",
    "# CONVERT to float: from `string` to `float`\r\n",
    "print(float(\"3.1415\"))\r\n",
    "\r\n",
    "# CONVERT to float: `nan` - Not a number\r\n",
    "print(float(\"nan\"))\r\n",
    "\r\n",
    "# CONVERT to float: `inf` - Positive infinity\r\n",
    "print(float(\"inf\"))\r\n",
    "\r\n",
    "# CONVERT to float: `-inf` - Negative infinity\r\n",
    "print(float(\"-inf\"))\r\n",
    "\r\n",
    "# IMPORTANT:\r\n",
    "# - Any calculation involving float and int, the result is always float\r\n"
   ],
   "outputs": [],
   "metadata": {}
  },
  {
   "cell_type": "markdown",
   "source": [
    "## None\r\n",
    "None type is used when you do not want to initialise a value. "
   ],
   "metadata": {}
  },
  {
   "cell_type": "code",
   "execution_count": null,
   "source": [
    "# None\r\n",
    "a = None\r\n",
    "print(a)\r\n",
    "\r\n",
    "# You can also check if the value is initialised as None\r\n",
    "print(a is None)\r\n"
   ],
   "outputs": [],
   "metadata": {}
  },
  {
   "cell_type": "markdown",
   "source": [
    "## Bool Data Type\r\n",
    "`bool` type `True` or `False`. \r\n",
    "\r\n",
    "As noticed above, bool data type has the value \"True\" or \"False\" with initial capital."
   ],
   "metadata": {}
  },
  {
   "cell_type": "code",
   "execution_count": null,
   "source": [
    "# Bool - True\r\n",
    "print(True)\r\n",
    "\r\n",
    "# Bool - False\r\n",
    "print(False)\r\n",
    "\r\n",
    "# CONVERT to bool: From int\r\n",
    "# False-y value\r\n",
    "print(bool(0))\r\n",
    "print(bool(0.0))\r\n",
    "\r\n",
    "# Truth-y value\r\n",
    "print(bool(1))\r\n",
    "print(bool(-1))\r\n",
    "\r\n",
    "# CONVERT - Empty value\r\n",
    "print(bool([]))\r\n",
    "print(bool(\"\"))\r\n",
    "print(bool(\"A\"))\r\n",
    "\r\n",
    "# Passing \"True\" and \"False\" in bool function\r\n",
    "print(bool(\"True\"))\r\n",
    "print(bool(\"False\"))\r\n"
   ],
   "outputs": [],
   "metadata": {}
  }
 ],
 "metadata": {
  "orig_nbformat": 4,
  "language_info": {
   "name": "python",
   "version": "3.7.8",
   "mimetype": "text/x-python",
   "codemirror_mode": {
    "name": "ipython",
    "version": 3
   },
   "pygments_lexer": "ipython3",
   "nbconvert_exporter": "python",
   "file_extension": ".py"
  },
  "kernelspec": {
   "name": "python3",
   "display_name": "Python 3.7.8 64-bit"
  },
  "interpreter": {
   "hash": "57baa5815c940fdaff4d14510622de9616cae602444507ba5d0b6727c008cbd6"
  }
 },
 "nbformat": 4,
 "nbformat_minor": 2
}