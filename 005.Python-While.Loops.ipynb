{
 "cells": [
  {
   "cell_type": "markdown",
   "source": [
    "# Loops - While Loops\r\n",
    "\r\n",
    "A repetitive step which allows user to iterate through a set of instructions.\r\n",
    "\r\n",
    "## While-Loops statement syntax\r\n",
    "```\r\n",
    "while expression:\r\n",
    "    statement\r\n",
    "```\r\n"
   ],
   "metadata": {}
  },
  {
   "cell_type": "code",
   "execution_count": null,
   "source": [
    "# EXAMPLE - Lets iterate through a variable until it is 0.\r\n",
    "\r\n",
    "c = 5\r\n",
    "while c != 0:\r\n",
    "    print(c)\r\n",
    "    c = (c - 1)    # c -= 1\r\n",
    "\r\n"
   ],
   "outputs": [],
   "metadata": {
    "dotnet_interactive": {
     "language": "csharp"
    }
   }
  }
 ],
 "metadata": {
  "orig_nbformat": 4,
  "language_info": {
   "name": "python",
   "version": "3.7.8",
   "mimetype": "text/x-python",
   "codemirror_mode": {
    "name": "ipython",
    "version": 3
   },
   "pygments_lexer": "ipython3",
   "nbconvert_exporter": "python",
   "file_extension": ".py"
  },
  "kernelspec": {
   "name": "python3",
   "display_name": "Python 3.7.8 64-bit"
  },
  "interpreter": {
   "hash": "57baa5815c940fdaff4d14510622de9616cae602444507ba5d0b6727c008cbd6"
  }
 },
 "nbformat": 4,
 "nbformat_minor": 2
}