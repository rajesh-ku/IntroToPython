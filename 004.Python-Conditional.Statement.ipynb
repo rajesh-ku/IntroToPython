{
 "cells": [
  {
   "cell_type": "markdown",
   "source": [
    "# Conditional Statement\r\n",
    "\r\n",
    "Conditional statements allows us to take decision based on some boolean expression.\r\n",
    "\r\n",
    "## if statement syntax\r\n",
    "```\r\n",
    "if expression:\r\n",
    "    statement\r\n",
    "```\r\n"
   ],
   "metadata": {}
  },
  {
   "cell_type": "code",
   "execution_count": null,
   "source": [
    "# EXAMPLE (True)\r\n",
    "if True:\r\n",
    "    print(\"This is True!\")\r\n",
    "\r\n",
    "# EXAMPLE (False)\r\n",
    "if False:\r\n",
    "    print(\"This will not be printed!\")\r\n",
    "\r\n",
    "# EXAMPLE: using bool()\r\n",
    "if bool(\"Hello\"):\r\n",
    "    print(\"Hello World! will be printed..\")\r\n",
    "\r\n",
    "if \"Hello\":\r\n",
    "    print(\"This will be printed as well!\")\r\n"
   ],
   "outputs": [],
   "metadata": {
    "dotnet_interactive": {
     "language": "csharp"
    }
   }
  },
  {
   "cell_type": "markdown",
   "source": [
    "# if-else statement syntax\r\n",
    "```\r\n",
    "if expression:\r\n",
    "    statement1\r\n",
    "else:\r\n",
    "    statement2\r\n",
    "```"
   ],
   "metadata": {}
  }
 ],
 "metadata": {
  "orig_nbformat": 4,
  "language_info": {
   "name": "python",
   "version": "3.7.8",
   "mimetype": "text/x-python",
   "codemirror_mode": {
    "name": "ipython",
    "version": 3
   },
   "pygments_lexer": "ipython3",
   "nbconvert_exporter": "python",
   "file_extension": ".py"
  },
  "kernelspec": {
   "name": "python3",
   "display_name": "Python 3.7.8 64-bit"
  },
  "interpreter": {
   "hash": "57baa5815c940fdaff4d14510622de9616cae602444507ba5d0b6727c008cbd6"
  }
 },
 "nbformat": 4,
 "nbformat_minor": 2
}