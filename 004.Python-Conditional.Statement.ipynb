{
 "cells": [
  {
   "cell_type": "markdown",
   "source": [
    "# Conditional Statement\r\n",
    "\r\n",
    "Conditional statements allows us to take decision based on some boolean expression.\r\n",
    "\r\n",
    "## if statement syntax\r\n",
    "```\r\n",
    "if expression:\r\n",
    "    statement\r\n",
    "```\r\n"
   ],
   "metadata": {}
  },
  {
   "cell_type": "code",
   "execution_count": null,
   "source": [
    "# EXAMPLE (True)\r\n",
    "if True:\r\n",
    "    print(\"This is True!\")\r\n",
    "\r\n",
    "# EXAMPLE (False)\r\n",
    "if False:\r\n",
    "    print(\"This will not be printed!\")\r\n",
    "\r\n",
    "# EXAMPLE: using bool()\r\n",
    "if bool(\"Hello\"):\r\n",
    "    print(\"Hello World! will be printed..\")\r\n",
    "\r\n",
    "if \"Hello\":\r\n",
    "    print(\"This will be printed as well!\")\r\n"
   ],
   "outputs": [],
   "metadata": {
    "dotnet_interactive": {
     "language": "csharp"
    }
   }
  },
  {
   "cell_type": "markdown",
   "source": [
    "# if-else statement syntax\r\n",
    "```\r\n",
    "if expression:\r\n",
    "    statement1\r\n",
    "else:\r\n",
    "    statement2\r\n",
    "```"
   ],
   "metadata": {}
  },
  {
   "cell_type": "code",
   "execution_count": null,
   "source": [
    "# EXAMPLE IF-ELSE\r\n",
    "\r\n",
    "data = 20\r\n",
    "\r\n",
    "if data >= 0:\r\n",
    "    print(\"This is a positive number.\")\r\n",
    "else:\r\n",
    "    print(\"This is a negative number.\")\r\n",
    "\r\n",
    "\r\n",
    "# NESTED IF-ELSE\r\n",
    "# Find out if a number is between 0 and 50 or between 50 and 100 or greater than 100\r\n",
    "number = 25\r\n",
    "\r\n",
    "if number <= 50:\r\n",
    "    print(\"Number is between 0 and 50\")\r\n",
    "else:\r\n",
    "    if number <= 100:\r\n",
    "        print(\"Number is between 51 and 100\")\r\n",
    "    else:\r\n",
    "        print(\"Number is more than 100\")\r\n"
   ],
   "outputs": [],
   "metadata": {}
  },
  {
   "cell_type": "markdown",
   "source": [
    "## Question 1:\r\n",
    "Request a number from the user and print whether the number is divisible by 2 or not?"
   ],
   "metadata": {}
  },
  {
   "cell_type": "code",
   "execution_count": 1,
   "source": [
    "# Question 1: Answers \r\n",
    "\r\n",
    "data = input(\"Please enter a positive number? \")\r\n",
    "number = int(data)\r\n",
    "\r\n",
    "\r\n"
   ],
   "outputs": [],
   "metadata": {}
  },
  {
   "cell_type": "markdown",
   "source": [
    "# if-elif-else statement syntax\r\n",
    "```\r\n",
    "if expression:\r\n",
    "    statement1\r\n",
    "elif:\r\n",
    "    statement2\r\n",
    "else:\r\n",
    "    statement3\r\n",
    "```"
   ],
   "metadata": {}
  },
  {
   "cell_type": "code",
   "execution_count": null,
   "source": [
    "# NESTED IF-ELSE\r\n",
    "# Find out if a number is between 0 and 50 or between 50 and 100 or greater than 100\r\n",
    "number2 = 25\r\n",
    "\r\n",
    "if number2 <= 50:\r\n",
    "    print(\"Number 2 is between 0 and 50\")\r\n",
    "elif number2 <= 100:\r\n",
    "    print(\"Number 2 is between 51 and 100\")\r\n",
    "else:\r\n",
    "    print(\"Number 2 is more than 100\")"
   ],
   "outputs": [],
   "metadata": {}
  },
  {
   "cell_type": "markdown",
   "source": [
    "## Question 2:\r\n",
    "Request a number from the user and check if the number is positive / negative or 0?"
   ],
   "metadata": {}
  },
  {
   "cell_type": "code",
   "execution_count": null,
   "source": [
    "# Question 2: Answers \r\n",
    "\r\n",
    "data = input(\"Please enter a number? \")\r\n",
    "number = int(data)\r\n",
    "\r\n",
    "\r\n"
   ],
   "outputs": [],
   "metadata": {}
  }
 ],
 "metadata": {
  "orig_nbformat": 4,
  "language_info": {
   "name": "python",
   "version": "3.7.8",
   "mimetype": "text/x-python",
   "codemirror_mode": {
    "name": "ipython",
    "version": 3
   },
   "pygments_lexer": "ipython3",
   "nbconvert_exporter": "python",
   "file_extension": ".py"
  },
  "kernelspec": {
   "name": "python3",
   "display_name": "Python 3.7.8 64-bit"
  },
  "interpreter": {
   "hash": "57baa5815c940fdaff4d14510622de9616cae602444507ba5d0b6727c008cbd6"
  }
 },
 "nbformat": 4,
 "nbformat_minor": 2
}