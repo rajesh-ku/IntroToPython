{
 "metadata": {
  "language_info": {
   "codemirror_mode": {
    "name": "ipython",
    "version": 3
   },
   "file_extension": ".py",
   "mimetype": "text/x-python",
   "name": "python",
   "nbconvert_exporter": "python",
   "pygments_lexer": "ipython3",
   "version": "3.9.6"
  },
  "orig_nbformat": 4,
  "kernelspec": {
   "name": "python3",
   "display_name": "Python 3.9.6 64-bit"
  },
  "interpreter": {
   "hash": "63fd5069d213b44bf678585dea6b12cceca9941eaf7f819626cde1f2670de90d"
  }
 },
 "nbformat": 4,
 "nbformat_minor": 2,
 "cells": [
  {
   "cell_type": "markdown",
   "source": [
    "# Python's Arithmatic Operators\r\n",
    "\r\n",
    "** For example, if: \r\n",
    "a = 30\r\n",
    "b = 10\r\n",
    "\r\n",
    "|Operator | Meaning | Example\r\n",
    "|-------- | ------- | -------\r\n",
    "| + | Addition | a + b = 30\r\n",
    "| - | Subtraction | a – b = 20\r\n",
    "| * | Multiplication | a * b = 300\r\n",
    "| / | Division\t| a/b = 2\r\n",
    "| % | Modulus (Remainder) | a % b = 0\r\n",
    "| ** | Exponent | a**b = 30 to the power 10 (30 ^10)\r\n",
    "| //\t| Floor Division (Quotient) | 9 // 2 = 4 and 9.0//2.0 = 4.0, -11//3 = -4, -11.0//3 = -4.0\r\n"
   ],
   "metadata": {}
  },
  {
   "cell_type": "markdown",
   "source": [
    "# Word problem based on Python's Arithmatic Operators"
   ],
   "metadata": {}
  },
  {
   "cell_type": "markdown",
   "source": [
    "## Question 1: \r\n",
    "The population of a town is 198568. Out of them 45312 are men and 35678 are women. Find the number of children in the town."
   ],
   "metadata": {}
  },
  {
   "cell_type": "code",
   "execution_count": null,
   "source": [
    "# Question 1: Answers (Without Variables)\r\n"
   ],
   "outputs": [],
   "metadata": {}
  },
  {
   "cell_type": "markdown",
   "source": [
    "## Question 2:\r\n",
    "A shopkeeper has 2425 boxes of 24 pencils each. How many pencils do all the boxes have in all?"
   ],
   "metadata": {}
  },
  {
   "cell_type": "code",
   "execution_count": null,
   "source": [
    "# Question 2: Answers\r\n"
   ],
   "outputs": [],
   "metadata": {}
  },
  {
   "cell_type": "markdown",
   "source": [
    "# Variable (in python or computer science)\r\n",
    "\r\n",
    "A variable is a `storage location` in `computer's memory (RAM)`, when it is running a program.\r\n",
    "\r\n",
    "A variable is composed of 3 parts:\r\n",
    "1. `Name` of the variable\r\n",
    "2. `Type` of the variable\r\n",
    "3. `Value` of the variable\r\n",
    "\r\n",
    "- Good things about variable is once you have defined it, you can use the same value again and again\r\n",
    "- Another advantage is, if you decide to change the variable (value or type), you only have to change it once.\r\n",
    "\r\n",
    "## Defining a variable\r\n",
    "\r\n",
    "```\r\n",
    "# Define the variable for π and radius\r\n",
    "pi = 3.1415\r\n",
    "radius = 20\r\n",
    "\r\n",
    "area = pi * radius * radius\r\n",
    "```\r\n",
    "## Rules of creating a variable in python\r\n",
    "\r\n",
    "|No.| Description | Examples (if any) |\r\n",
    "|---|------------|--------------------|\r\n",
    "|1| Variable name MUST start with an alphabet or underscore(_) character | `Valid` => age, _age,  Age, radius_of_a_circle  \r\n",
    "|2| Variable name can only contain A-Z,a-z,0-9 and underscore(_) | `see above`\r\n",
    "|3| Variable name cannot be started witha  number  | `Invalid` => 1age,  9lives\r\n",
    "|4| No special keyboard characters are allowed in variable names; such as such as $,%,#,&,@.-,^ | `Invalid` => ^age, a$ge, age_*, +age\r\n",
    "|5| Variable names are case sensitive | `age` and `AGE` and `Age` will be assumed as different\r\n",
    "|6| Python reserver keywords are not allows | Example => `class`, `for`, `def`, `del`, `is`, `else`, `try`, `from`, etc."
   ],
   "metadata": {}
  },
  {
   "cell_type": "code",
   "execution_count": 1,
   "source": [
    "# Question 1: Answers (With Variables)\r\n",
    "\r\n",
    "town_population = 198568\r\n",
    "number_of_men = 45312 \r\n",
    "number_of_women = 35678 \r\n",
    "\r\n",
    "number_of_children = town_population - (number_of_men + number_of_women)\r\n",
    "\r\n",
    "print(\"There are total {} number of children.\".format(number_of_children))"
   ],
   "outputs": [
    {
     "output_type": "stream",
     "name": "stdout",
     "text": [
      "There are total 117578 number of children.\n"
     ]
    }
   ],
   "metadata": {}
  }
 ]
}